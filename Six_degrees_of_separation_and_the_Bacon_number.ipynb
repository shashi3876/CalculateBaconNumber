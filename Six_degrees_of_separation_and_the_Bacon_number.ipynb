{
  "cells": [
    {
      "cell_type": "markdown",
      "metadata": {
        "id": "MrEdoQThg5OZ"
      },
      "source": [
        "# Find the Bacon Number from movies database using Pandas\n",
        "\n",
        "According to the theory of six degrees of seperation (see one of my very old [blogposts](https://shashindrasri.blogspot.com/2013/04/so-close-no-matter-how-far-six-degrees.html)), every human in the world can be reached via atmost six intermediate connections. You may not abe cquainted with Barrack Obama directly, but you will be able to find a friend (A) that knows another friend (B), that knows another friend (C), that knows another friend (D) who personally connected with Obama. In that case the number of connections between you and Obama would be five. The unproved theory is that, using only six such connections you can reach anyone in the world.\n",
        "\n",
        "##Bacon Number\n",
        "\n",
        "One easier way to check this theory would be to look at the connections in movies. The Bacon number of an actor is the number of degrees of separation he or she has from [Kevin Bacon](https://www.imdb.com/name/nm0000102/).\n",
        "The [Bacon number](https://en.wikipedia.org/wiki/Six_Degrees_of_Kevin_Bacon#:~:text=The%20Bacon%20number%20of%20an,Kevin%20Bacon%20the%20actor%20is.) is calculated as follows.\n",
        "\n",
        "*   Kevin Bacon himself has a Bacon number of 0.\n",
        "*   Those actors who have worked directly with Kevin Bacon have a Bacon number of 1.\n",
        "*   If the lowest Bacon number of any actor with whom X has appeared in any movie is N, X's Bacon number is N+1.\n",
        "\n",
        "\n",
        "\n",
        "\n",
        "\n",
        "\n",
        "##Objective\n",
        "\n",
        "Objective of this notebook is to calculate the Bacon number for all the cast members in the database. Then we'll try to find the maximum such number. This will help to verify whether six degrees of seperation is valid for the movie cast data. \n",
        "\n",
        "##Dataset\n",
        "\n",
        "The cast.csv.zip file is obtained through Brandon Rhodes [Pandas tutorials](https://github.com/brandon-rhodes/pycon-pandas-tutorial/tree/998a4539ce9856010d4bb238de74cefe12b1d883). You can also find the file [here](https://github.com/shashi3876/data-wrangling)."
      ]
    },
    {
      "cell_type": "markdown",
      "metadata": {
        "id": "NW_zHPEbg5Oh"
      },
      "source": [
        "### Setting up Pandas and other packages"
      ]
    },
    {
      "cell_type": "code",
      "execution_count": 1,
      "metadata": {
        "id": "vZ3vDPqFg5Oi",
        "colab": {
          "base_uri": "https://localhost:8080/",
          "height": 36
        },
        "outputId": "707dba14-dcb9-40d4-8714-4098ed77ae2c"
      },
      "outputs": [
        {
          "output_type": "execute_result",
          "data": {
            "text/plain": [
              "'1.3.5'"
            ],
            "application/vnd.google.colaboratory.intrinsic+json": {
              "type": "string"
            }
          },
          "metadata": {},
          "execution_count": 1
        }
      ],
      "source": [
        "import pandas as pd\n",
        "import matplotlib.pyplot as plt\n",
        "\n",
        "%matplotlib inline\n",
        "pd.__version__"
      ]
    },
    {
      "cell_type": "markdown",
      "metadata": {
        "id": "-4Aa4wWdg5Om"
      },
      "source": [
        "## Taking a look at the Cast dataset\n",
        "\n",
        "This data shows the cast (actors, actresses, supporting roles) for each movie\n",
        "\n",
        "- The attribute `n` basically tells the importance of the cast role, lower the number, more important the role.\n",
        "- Supporting cast usually don't have any value for `n`\n",
        "\n"
      ]
    },
    {
      "cell_type": "code",
      "execution_count": 2,
      "metadata": {
        "id": "9xmHQ6Eeg5On",
        "colab": {
          "base_uri": "https://localhost:8080/"
        },
        "outputId": "cadbb287-fdfd-41e3-b046-bc7bb4db76fa"
      },
      "outputs": [
        {
          "output_type": "stream",
          "name": "stdout",
          "text": [
            "<class 'pandas.core.frame.DataFrame'>\n",
            "RangeIndex: 3786176 entries, 0 to 3786175\n",
            "Data columns (total 6 columns):\n",
            " #   Column     Dtype  \n",
            "---  ------     -----  \n",
            " 0   title      object \n",
            " 1   year       int64  \n",
            " 2   name       object \n",
            " 3   type       object \n",
            " 4   character  object \n",
            " 5   n          float64\n",
            "dtypes: float64(1), int64(1), object(4)\n",
            "memory usage: 173.3+ MB\n"
          ]
        }
      ],
      "source": [
        "cast = pd.read_csv('cast.csv.zip')\n",
        "cast.info()"
      ]
    },
    {
      "cell_type": "code",
      "execution_count": 3,
      "metadata": {
        "id": "h7YOBEKFg5Oo",
        "colab": {
          "base_uri": "https://localhost:8080/",
          "height": 206
        },
        "outputId": "791b29e7-c2d9-4cea-f3d4-8cd09da1bbb2"
      },
      "outputs": [
        {
          "output_type": "execute_result",
          "data": {
            "text/plain": [
              "                                   title  year                    name  \\\n",
              "3612097                            Dudes  1987  Catherine Mary Stewart   \n",
              "1249158         Povest o lesnom velikane  1954          Viktor Kulakov   \n",
              "2233846                      Huang tu di  1984                 Tuo Tan   \n",
              "1515093             Pirates of the Plain  1999        Tertius Meintjes   \n",
              "2254297  Le calde notti di Lady Hamilton  1968          Lorenzo Terzon   \n",
              "\n",
              "            type              character     n  \n",
              "3612097  actress                 Jessie  10.0  \n",
              "1249158    actor                Nazarka   NaN  \n",
              "2233846    actor             The father   4.0  \n",
              "1515093    actor                 Fergus  18.0  \n",
              "2254297    actor  Lord Charles Greville   7.0  "
            ],
            "text/html": [
              "\n",
              "  <div id=\"df-c57506a2-ae62-41de-a4b5-65b10e21fd77\">\n",
              "    <div class=\"colab-df-container\">\n",
              "      <div>\n",
              "<style scoped>\n",
              "    .dataframe tbody tr th:only-of-type {\n",
              "        vertical-align: middle;\n",
              "    }\n",
              "\n",
              "    .dataframe tbody tr th {\n",
              "        vertical-align: top;\n",
              "    }\n",
              "\n",
              "    .dataframe thead th {\n",
              "        text-align: right;\n",
              "    }\n",
              "</style>\n",
              "<table border=\"1\" class=\"dataframe\">\n",
              "  <thead>\n",
              "    <tr style=\"text-align: right;\">\n",
              "      <th></th>\n",
              "      <th>title</th>\n",
              "      <th>year</th>\n",
              "      <th>name</th>\n",
              "      <th>type</th>\n",
              "      <th>character</th>\n",
              "      <th>n</th>\n",
              "    </tr>\n",
              "  </thead>\n",
              "  <tbody>\n",
              "    <tr>\n",
              "      <th>3612097</th>\n",
              "      <td>Dudes</td>\n",
              "      <td>1987</td>\n",
              "      <td>Catherine Mary Stewart</td>\n",
              "      <td>actress</td>\n",
              "      <td>Jessie</td>\n",
              "      <td>10.0</td>\n",
              "    </tr>\n",
              "    <tr>\n",
              "      <th>1249158</th>\n",
              "      <td>Povest o lesnom velikane</td>\n",
              "      <td>1954</td>\n",
              "      <td>Viktor Kulakov</td>\n",
              "      <td>actor</td>\n",
              "      <td>Nazarka</td>\n",
              "      <td>NaN</td>\n",
              "    </tr>\n",
              "    <tr>\n",
              "      <th>2233846</th>\n",
              "      <td>Huang tu di</td>\n",
              "      <td>1984</td>\n",
              "      <td>Tuo Tan</td>\n",
              "      <td>actor</td>\n",
              "      <td>The father</td>\n",
              "      <td>4.0</td>\n",
              "    </tr>\n",
              "    <tr>\n",
              "      <th>1515093</th>\n",
              "      <td>Pirates of the Plain</td>\n",
              "      <td>1999</td>\n",
              "      <td>Tertius Meintjes</td>\n",
              "      <td>actor</td>\n",
              "      <td>Fergus</td>\n",
              "      <td>18.0</td>\n",
              "    </tr>\n",
              "    <tr>\n",
              "      <th>2254297</th>\n",
              "      <td>Le calde notti di Lady Hamilton</td>\n",
              "      <td>1968</td>\n",
              "      <td>Lorenzo Terzon</td>\n",
              "      <td>actor</td>\n",
              "      <td>Lord Charles Greville</td>\n",
              "      <td>7.0</td>\n",
              "    </tr>\n",
              "  </tbody>\n",
              "</table>\n",
              "</div>\n",
              "      <button class=\"colab-df-convert\" onclick=\"convertToInteractive('df-c57506a2-ae62-41de-a4b5-65b10e21fd77')\"\n",
              "              title=\"Convert this dataframe to an interactive table.\"\n",
              "              style=\"display:none;\">\n",
              "        \n",
              "  <svg xmlns=\"http://www.w3.org/2000/svg\" height=\"24px\"viewBox=\"0 0 24 24\"\n",
              "       width=\"24px\">\n",
              "    <path d=\"M0 0h24v24H0V0z\" fill=\"none\"/>\n",
              "    <path d=\"M18.56 5.44l.94 2.06.94-2.06 2.06-.94-2.06-.94-.94-2.06-.94 2.06-2.06.94zm-11 1L8.5 8.5l.94-2.06 2.06-.94-2.06-.94L8.5 2.5l-.94 2.06-2.06.94zm10 10l.94 2.06.94-2.06 2.06-.94-2.06-.94-.94-2.06-.94 2.06-2.06.94z\"/><path d=\"M17.41 7.96l-1.37-1.37c-.4-.4-.92-.59-1.43-.59-.52 0-1.04.2-1.43.59L10.3 9.45l-7.72 7.72c-.78.78-.78 2.05 0 2.83L4 21.41c.39.39.9.59 1.41.59.51 0 1.02-.2 1.41-.59l7.78-7.78 2.81-2.81c.8-.78.8-2.07 0-2.86zM5.41 20L4 18.59l7.72-7.72 1.47 1.35L5.41 20z\"/>\n",
              "  </svg>\n",
              "      </button>\n",
              "      \n",
              "  <style>\n",
              "    .colab-df-container {\n",
              "      display:flex;\n",
              "      flex-wrap:wrap;\n",
              "      gap: 12px;\n",
              "    }\n",
              "\n",
              "    .colab-df-convert {\n",
              "      background-color: #E8F0FE;\n",
              "      border: none;\n",
              "      border-radius: 50%;\n",
              "      cursor: pointer;\n",
              "      display: none;\n",
              "      fill: #1967D2;\n",
              "      height: 32px;\n",
              "      padding: 0 0 0 0;\n",
              "      width: 32px;\n",
              "    }\n",
              "\n",
              "    .colab-df-convert:hover {\n",
              "      background-color: #E2EBFA;\n",
              "      box-shadow: 0px 1px 2px rgba(60, 64, 67, 0.3), 0px 1px 3px 1px rgba(60, 64, 67, 0.15);\n",
              "      fill: #174EA6;\n",
              "    }\n",
              "\n",
              "    [theme=dark] .colab-df-convert {\n",
              "      background-color: #3B4455;\n",
              "      fill: #D2E3FC;\n",
              "    }\n",
              "\n",
              "    [theme=dark] .colab-df-convert:hover {\n",
              "      background-color: #434B5C;\n",
              "      box-shadow: 0px 1px 3px 1px rgba(0, 0, 0, 0.15);\n",
              "      filter: drop-shadow(0px 1px 2px rgba(0, 0, 0, 0.3));\n",
              "      fill: #FFFFFF;\n",
              "    }\n",
              "  </style>\n",
              "\n",
              "      <script>\n",
              "        const buttonEl =\n",
              "          document.querySelector('#df-c57506a2-ae62-41de-a4b5-65b10e21fd77 button.colab-df-convert');\n",
              "        buttonEl.style.display =\n",
              "          google.colab.kernel.accessAllowed ? 'block' : 'none';\n",
              "\n",
              "        async function convertToInteractive(key) {\n",
              "          const element = document.querySelector('#df-c57506a2-ae62-41de-a4b5-65b10e21fd77');\n",
              "          const dataTable =\n",
              "            await google.colab.kernel.invokeFunction('convertToInteractive',\n",
              "                                                     [key], {});\n",
              "          if (!dataTable) return;\n",
              "\n",
              "          const docLinkHtml = 'Like what you see? Visit the ' +\n",
              "            '<a target=\"_blank\" href=https://colab.research.google.com/notebooks/data_table.ipynb>data table notebook</a>'\n",
              "            + ' to learn more about interactive tables.';\n",
              "          element.innerHTML = '';\n",
              "          dataTable['output_type'] = 'display_data';\n",
              "          await google.colab.output.renderOutput(dataTable, element);\n",
              "          const docLink = document.createElement('div');\n",
              "          docLink.innerHTML = docLinkHtml;\n",
              "          element.appendChild(docLink);\n",
              "        }\n",
              "      </script>\n",
              "    </div>\n",
              "  </div>\n",
              "  "
            ]
          },
          "metadata": {},
          "execution_count": 3
        }
      ],
      "source": [
        "cast.sample(5)"
      ]
    },
    {
      "cell_type": "markdown",
      "metadata": {
        "id": "XqVURGoem6lI"
      },
      "source": [
        "### Is movie name a goood key to identify each movie ?\n"
      ]
    },
    {
      "cell_type": "code",
      "execution_count": 4,
      "metadata": {
        "id": "cXLbVxZOnB3A",
        "colab": {
          "base_uri": "https://localhost:8080/"
        },
        "outputId": "4921bc26-a81a-4a3d-f68b-361eab24e69f"
      },
      "outputs": [
        {
          "output_type": "stream",
          "name": "stdout",
          "text": [
            "All the unique movie names\n",
            "There are 182675 unique movie names\n"
          ]
        }
      ],
      "source": [
        "print(f'All the unique movie names')\n",
        "#print(cast.title.value_counts())\n",
        "print(f'There are {len(cast.title.value_counts())} unique movie names')"
      ]
    },
    {
      "cell_type": "code",
      "execution_count": 5,
      "metadata": {
        "id": "x1MJw3h1uMiT",
        "colab": {
          "base_uri": "https://localhost:8080/"
        },
        "outputId": "3d072917-45dc-4b2e-c378-c2e5b6c7308a"
      },
      "outputs": [
        {
          "output_type": "stream",
          "name": "stdout",
          "text": [
            "There are 199219 unique movies\n"
          ]
        }
      ],
      "source": [
        "movie_year_df=cast.groupby(['title','year'])['name'].count().sort_values(ascending=False);\n",
        "print(f'There are {len(movie_year_df)} unique movies')"
      ]
    },
    {
      "cell_type": "markdown",
      "metadata": {
        "id": "3WhwkUP6v4SM"
      },
      "source": [
        "**Comment:**\n",
        "Based on the above observations, both title and year is required to uniquely identify each movie. So now let's add a movie column which is a concatanation of the title and the year. This column can be used to identify a movie."
      ]
    },
    {
      "cell_type": "code",
      "source": [
        "#print(cast.year)\n",
        "cast[\"movie\"]=cast[\"title\"]+\" (\"+cast[\"year\"].astype(\"str\")+\")\"\n",
        "print(cast.sample(5))"
      ],
      "metadata": {
        "colab": {
          "base_uri": "https://localhost:8080/"
        },
        "id": "JFpFIPlOCPCy",
        "outputId": "1017cdcc-0023-4cec-e3d9-704304af89d6"
      },
      "execution_count": 6,
      "outputs": [
        {
          "output_type": "stream",
          "name": "stdout",
          "text": [
            "                                          title  year                 name  \\\n",
            "696830                             The Last Hit  2013       Thomas Falborn   \n",
            "3478081  Todo el mundo tiene a alguien menos yo  2012    Paola Torres Rico   \n",
            "700861                           Messi and Maud  2017     Crist?bal Farias   \n",
            "2652590                         Hello Au Revoir  2018  Isabelle (II) Bonin   \n",
            "1091651                            Peulraenmaen  2014           Gwang Jang   \n",
            "\n",
            "            type        character    n  \\\n",
            "696830     actor  Man with Goatee  NaN   \n",
            "3478081  actress           MariJo  6.0   \n",
            "700861     actor            Messi  NaN   \n",
            "2652590  actress     Jade Mermaid  NaN   \n",
            "1091651    actor    Goo Sang-yoon  NaN   \n",
            "\n",
            "                                                 movie  \n",
            "696830                             The Last Hit (2013)  \n",
            "3478081  Todo el mundo tiene a alguien menos yo (2012)  \n",
            "700861                           Messi and Maud (2017)  \n",
            "2652590                         Hello Au Revoir (2018)  \n",
            "1091651                            Peulraenmaen (2014)  \n"
          ]
        }
      ]
    },
    {
      "cell_type": "markdown",
      "metadata": {
        "id": "AIfo6lplg5Op"
      },
      "source": [
        "### Lets see the number of movies Kevin Bacon has featured in.\n"
      ]
    },
    {
      "cell_type": "code",
      "execution_count": 7,
      "metadata": {
        "id": "lAHhr7UQ8LD3",
        "colab": {
          "base_uri": "https://localhost:8080/"
        },
        "outputId": "1506033b-a0c8-4189-a7d9-78f0d5703ed1"
      },
      "outputs": [
        {
          "output_type": "stream",
          "name": "stdout",
          "text": [
            "                       title  year         name   type        character  \\\n",
            "110644        A Few Good Men  1992  Kevin Bacon  actor  Capt. Jack Ross   \n",
            "110645          Animal House  1978  Kevin Bacon  actor      Chip Diller   \n",
            "110646             Apollo 13  1995  Kevin Bacon  actor     Jack Swigert   \n",
            "110647                 Balto  1995  Kevin Bacon  actor            Balto   \n",
            "110648           Beauty Shop  2005  Kevin Bacon  actor            Jorge   \n",
            "...                      ...   ...          ...    ...              ...   \n",
            "110704      We Married Margo  2000  Kevin Bacon  actor          Himself   \n",
            "110705  Where the Truth Lies  2005  Kevin Bacon  actor            Lanny   \n",
            "110706    White Water Summer  1987  Kevin Bacon  actor              Vic   \n",
            "110707           Wild Things  1998  Kevin Bacon  actor     Ray Duquette   \n",
            "110708        X: First Class  2011  Kevin Bacon  actor   Sebastian Shaw   \n",
            "\n",
            "            n                        movie  \n",
            "110644    4.0        A Few Good Men (1992)  \n",
            "110645    7.0          Animal House (1978)  \n",
            "110646    3.0             Apollo 13 (1995)  \n",
            "110647    1.0                 Balto (1995)  \n",
            "110648   17.0           Beauty Shop (2005)  \n",
            "...       ...                          ...  \n",
            "110704  108.0      We Married Margo (2000)  \n",
            "110705    1.0  Where the Truth Lies (2005)  \n",
            "110706    1.0    White Water Summer (1987)  \n",
            "110707    1.0           Wild Things (1998)  \n",
            "110708    5.0        X: First Class (2011)  \n",
            "\n",
            "[64 rows x 7 columns]\n"
          ]
        },
        {
          "output_type": "stream",
          "name": "stderr",
          "text": [
            "/usr/local/lib/python3.7/dist-packages/pandas/util/_decorators.py:311: SettingWithCopyWarning: \n",
            "A value is trying to be set on a copy of a slice from a DataFrame\n",
            "\n",
            "See the caveats in the documentation: https://pandas.pydata.org/pandas-docs/stable/user_guide/indexing.html#returning-a-view-versus-a-copy\n",
            "  return func(*args, **kwargs)\n"
          ]
        }
      ],
      "source": [
        "kevin_df=cast[cast['name']==\"Kevin Bacon\"];\n",
        "#print(kevin_df)\n",
        "kevin_df.drop_duplicates(\"movie\",inplace=True)\n",
        "print(kevin_df)"
      ]
    },
    {
      "cell_type": "markdown",
      "metadata": {
        "id": "wpdDGSAXg5Oq"
      },
      "source": [
        "### What is the distribution of Kevin Bacon movies over the years\n",
        "\n",
        "\n"
      ]
    },
    {
      "cell_type": "code",
      "execution_count": 8,
      "metadata": {
        "id": "dAnRdVIDg5Oq",
        "colab": {
          "base_uri": "https://localhost:8080/",
          "height": 328
        },
        "outputId": "2fcf19f9-8ee4-414d-ef0d-f68e46711413"
      },
      "outputs": [
        {
          "output_type": "execute_result",
          "data": {
            "text/plain": [
              "<matplotlib.axes._subplots.AxesSubplot at 0x7fec5c2c9b90>"
            ]
          },
          "metadata": {},
          "execution_count": 8
        },
        {
          "output_type": "display_data",
          "data": {
            "text/plain": [
              "<Figure size 432x288 with 1 Axes>"
            ],
            "image/png": "[encoded data removed]"
          },
          "metadata": {
            "needs_background": "light"
          }
        }
      ],
      "source": [
        "kevin_df_movie=kevin_df.groupby(['year']).agg({'year':'count'})\n",
        "#print(kevin_df_movie)\n",
        "#print(kevin_df_movie['year'])\n",
        "kevin_df_movie.plot(kind=\"bar\",title=\"Number of Kevin Bacon made in each year\")"
      ]
    },
    {
      "cell_type": "markdown",
      "metadata": {
        "id": "GolVk8LDjuzs"
      },
      "source": [
        "## How many actors/actresses have worked with Kevin Bacon directly ?\n",
        "\n",
        "First lets find the cast of all movies that was featured by Kevin Bacon."
      ]
    },
    {
      "cell_type": "code",
      "execution_count": 9,
      "metadata": {
        "id": "VLSdz8Fgj09i",
        "colab": {
          "base_uri": "https://localhost:8080/"
        },
        "outputId": "89e265c9-95c4-4566-f17d-b177e5a64c9a"
      },
      "outputs": [
        {
          "output_type": "stream",
          "name": "stdout",
          "text": [
            "['A Few Good Men (1992)', 'Animal House (1978)', 'Apollo 13 (1995)', 'Balto (1995)', 'Beauty Shop (2005)', 'Black Mass (2015)', 'Cavedweller (2004)', 'Cop Car (2015)', 'Crazy, Stupid, Love. (2011)', 'Criminal Law (1988)', 'Death Sentence (2007)', 'Digging to China (1997)', 'Diner (1982)', 'Elephant White (2011)', 'End of the Line (1987)', 'Enormous Changes at the Last Minute (1983)', 'Flatliners (1990)', 'Footloose (1984)', 'Forty Deuce (1982)', 'Friday the 13th (1980)', 'Frost/Nixon (2008)', 'He Said, She Said (1991)', 'Hero at Large (1980)', 'Hollow Man (2000)', 'In the Cut (2003)', \"Jayne Mansfield's Car (2012)\", 'JFK (1991)', 'Lemon Sky (1988)', 'Loverboy (2005)', 'Murder in the First (1995)', 'My Dog Skip (2000)', 'My One and Only (2009)', 'Mystic River (2003)', 'New York Skyride (1994)', 'Novocaine (2001)', 'Only When I Laugh (1981)', 'Patriots Day (2016)', 'Picture Perfect (1997)', 'Planes, Trains & Automobiles (1987)', 'Pyrates (1991)', 'Queens Logic (1991)', 'Quicksilver (1986)', 'R.I.P.D. (2013)', 'Rails & Ties (2007)', \"She's Having a Baby (1988)\", 'Sleepers (1996)', 'Starting Over (1979)', 'Stir of Echoes (1999)', 'Super (2010)', 'Telling Lies in America (1997)', 'The Air I Breathe (2007)', 'The Air Up There (1994)', 'The Big Picture (1989)', 'The Darkness (2016)', 'The Little Sister (1986)', 'The River Wild (1994)', 'The Woodsman (2004)', 'Trapped (2002)', 'Tremors (1990)', 'We Married Margo (2000)', 'Where the Truth Lies (2005)', 'White Water Summer (1987)', 'Wild Things (1998)', 'X: First Class (2011)']\n"
          ]
        }
      ],
      "source": [
        "#ind2=kevin_df_movie.set_index(['title','year']).index\n",
        "kevin_movie=kevin_df.movie.tolist()\n",
        "print(kevin_movie)\n",
        "#ind1=cast.set_index(['title','year']).index\n",
        "kevin_cast=cast[cast[\"movie\"].isin(kevin_movie)]\n"
      ]
    },
    {
      "cell_type": "code",
      "execution_count": 10,
      "metadata": {
        "id": "xALuROIorrpj",
        "colab": {
          "base_uri": "https://localhost:8080/"
        },
        "outputId": "745af4c8-bb79-4ecd-ada7-390d4b49af05"
      },
      "outputs": [
        {
          "output_type": "stream",
          "name": "stdout",
          "text": [
            "There are 3537 different actors/actresses who have starred with Kevin bacon across various movies.\n",
            "Altogether there are 1394048 actors/actressses\n"
          ]
        }
      ],
      "source": [
        "print(f'There are {len(kevin_cast.name.unique())} different actors/actresses who have starred with Kevin bacon across various movies.\\nAltogether there are {len(cast.name.unique())} actors/actressses')"
      ]
    },
    {
      "cell_type": "markdown",
      "metadata": {
        "id": "n65F9LFKs5nD"
      },
      "source": [
        "That's a lot of people with a Bacon number of 1. "
      ]
    },
    {
      "cell_type": "markdown",
      "metadata": {
        "id": "_Sksum-pg5Oq"
      },
      "source": [
        "## Use of Dijkstra's algorithm\n",
        "\n"
      ]
    },
    {
      "cell_type": "markdown",
      "metadata": {
        "id": "2XN4go25wI45"
      },
      "source": [
        "Now it's time to start the Dijkstra's algorithm. To run the algorithm, we generate two data frames which maps actor to all the movies he has appeared in (actor-movie_df) and movie to all the actors that appeared in that movie (movie_actor_df). These data frame will be utilized to run the Dijkstra's algorithm in the next step."
      ]
    },
    {
      "cell_type": "code",
      "source": [
        "actor_movie_df=cast.groupby(\"name\").agg({'movie':lambda x: list(pd.unique(x))})\n",
        "movie_actor_df=cast.groupby(\"movie\").agg({'name':lambda x: list(pd.unique(x))})"
      ],
      "metadata": {
        "id": "RXN_x5ivoZVM"
      },
      "execution_count": 11,
      "outputs": []
    },
    {
      "cell_type": "code",
      "source": [
        "print((list(movie_actor_df.loc[\"Giordano Bruno (1973)\"])))"
      ],
      "metadata": {
        "colab": {
          "base_uri": "https://localhost:8080/"
        },
        "id": "LRnpDDfkWIHr",
        "outputId": "d8b824d3-6a80-4432-c9a0-84fd664ffd9d"
      },
      "execution_count": 12,
      "outputs": [
        {
          "output_type": "stream",
          "name": "stdout",
          "text": [
            "[['Hans Christian Blech', 'Mark Burns', 'Mathieu Carri?re', 'Massimo Foschi', 'Giuseppe Maffioli', 'Renato Scarpa', 'Gian Maria Volont?', 'Charlotte Rampling']]\n"
          ]
        }
      ]
    },
    {
      "cell_type": "markdown",
      "source": [
        "Now we'll start the Dijkstra's algorithm. We'll use a priority queue to hold the visited nodes. also we initialize the distance and prev dictionaries to keep the bacon number and the best previous node to that cast member. These two dictionaires are initialized with infinity an None."
      ],
      "metadata": {
        "id": "aHvaV55TiuDq"
      }
    },
    {
      "cell_type": "code",
      "source": [
        "from queue import PriorityQueue\n",
        "import math\n",
        "unvisited=set(cast.name.unique());\n",
        "distance={}\n",
        "prev={}\n",
        "for i in unvisited:\n",
        "  distance[i]=math.inf;\n",
        "  prev[i]='None';\n",
        "\n",
        "#set the Bacon number for Kevin Bacon\n",
        "distance[\"Kevin Bacon\"]=0;\n",
        "prev[\"Kevin Bacon\"]='Origin';\n",
        "\n",
        "pq = PriorityQueue()\n",
        "pq.put((0, \"Kevin Bacon\"))\n",
        "unvisited.remove('Kevin Bacon')\n",
        "\n",
        "val=1;\n",
        "\n",
        "while not pq.empty():\n",
        "  (val, current_vertex) = pq.get();\n",
        "  movie_list=list(actor_movie_df.loc[current_vertex]);\n",
        "  actor_list=[];\n",
        "  for i in movie_list[0]:\n",
        "    actor_list.extend(list(movie_actor_df.loc[i])[0]);\n",
        "  for actor in actor_list:\n",
        "    if actor in unvisited:\n",
        "      distance[actor]=val+1;\n",
        "      prev[actor]=current_vertex;\n",
        "      pq.put((val+1,actor));\n",
        "      unvisited.remove(actor);\n"
      ],
      "metadata": {
        "id": "uHBxr5JfsUNS"
      },
      "execution_count": 13,
      "outputs": []
    },
    {
      "cell_type": "markdown",
      "source": [
        "Now lets make a data frame out of the dictionaries and have a look at the histomgram. To display, replace infinity with -1 meaning that there is no path towards these cast members from Kevin bacon.\n"
      ],
      "metadata": {
        "id": "Rj-SQUYbjRV4"
      }
    },
    {
      "cell_type": "code",
      "source": [
        "actor_names=[];\n",
        "actor_dist=[];\n",
        "actor_movies=[];\n",
        "for key, value in distance.items():\n",
        "  actor_names.append(key);\n",
        "  actor_dist.append(value);\n",
        "  actor_movies.append(len(list(actor_movie_df.loc[key])[0]));\n",
        "\n",
        "temp_dict={'Name':actor_names,'Bacon number':actor_dist,'Movies':actor_movies};\n",
        "\n",
        "data=pd.DataFrame(temp_dict);\n",
        "data.replace(math.inf,-1,inplace=True)\n",
        "data['Bacon number'].hist()\n",
        "\n"
      ],
      "metadata": {
        "colab": {
          "base_uri": "https://localhost:8080/",
          "height": 282
        },
        "id": "6fxzgPSfLl6U",
        "outputId": "805f9ecb-addd-44cb-9a42-ef5f6c326b89"
      },
      "execution_count": 14,
      "outputs": [
        {
          "output_type": "execute_result",
          "data": {
            "text/plain": [
              "<matplotlib.axes._subplots.AxesSubplot at 0x7fec7b553690>"
            ]
          },
          "metadata": {},
          "execution_count": 14
        },
        {
          "output_type": "display_data",
          "data": {
            "text/plain": [
              "<Figure size 432x288 with 1 Axes>"
            ],
            "image/png": "[encoded data removed]"
          },
          "metadata": {
            "needs_background": "light"
          }
        }
      ]
    },
    {
      "cell_type": "markdown",
      "metadata": {
        "id": "FEtxRLl1DBfI"
      },
      "source": [
        "## Analysis of the results\n",
        "\n",
        "Here we are trying to find if there are any interesting observations about the Bacon number.\n",
        "\n",
        "\n",
        "1.   Is there any cast member who is not connected to Kevin Bacon (ultimately a user with an infinite Bacon number)\n",
        "2.   If there are no such users what is the highest Bacon number for the cast members named in our data\n",
        "3.   What is the relationship between the number of movies a cast member appeared in vs their Bacon number ? (ie. does appearing in more movies corresponds to a lower Bacon number)\n",
        "4.   List item\n",
        "\n",
        "\n",
        "\n"
      ]
    },
    {
      "cell_type": "markdown",
      "source": [
        "**Q. Is there any cast member who is not connected to Kevin Bacon (ultimately a user with an infinite Bacon number)**\n",
        "\n",
        "A. Yes. There were 33407 cast members with no connection with kevin Bacon. Lets see how many movies they have appeared in."
      ],
      "metadata": {
        "id": "dPEwXul1Df6O"
      }
    },
    {
      "cell_type": "code",
      "source": [
        "disconnected_cast=data[data['Bacon number']==-1]\n",
        "disconnected_cast.sample(5)"
      ],
      "metadata": {
        "colab": {
          "base_uri": "https://localhost:8080/",
          "height": 206
        },
        "id": "5CD3e2ZBEUxP",
        "outputId": "77d4eaf3-1a83-417a-9747-bf433c10d7f9"
      },
      "execution_count": 15,
      "outputs": [
        {
          "output_type": "execute_result",
          "data": {
            "text/plain": [
              "                           Name  Bacon number  Movies\n",
              "1385181            Molly Kruger          -1.0       2\n",
              "525234            Yangjie Baima          -1.0       1\n",
              "220489   Daniello Zwiebackpapst          -1.0       1\n",
              "749522         Milan (II) Lukes          -1.0       1\n",
              "880718       Khosro Hassanzadeh          -1.0       1"
            ],
            "text/html": [
              "\n",
              "  <div id=\"df-d216cf1e-dfa4-4d2f-a86c-3c0698c47161\">\n",
              "    <div class=\"colab-df-container\">\n",
              "      <div>\n",
              "<style scoped>\n",
              "    .dataframe tbody tr th:only-of-type {\n",
              "        vertical-align: middle;\n",
              "    }\n",
              "\n",
              "    .dataframe tbody tr th {\n",
              "        vertical-align: top;\n",
              "    }\n",
              "\n",
              "    .dataframe thead th {\n",
              "        text-align: right;\n",
              "    }\n",
              "</style>\n",
              "<table border=\"1\" class=\"dataframe\">\n",
              "  <thead>\n",
              "    <tr style=\"text-align: right;\">\n",
              "      <th></th>\n",
              "      <th>Name</th>\n",
              "      <th>Bacon number</th>\n",
              "      <th>Movies</th>\n",
              "    </tr>\n",
              "  </thead>\n",
              "  <tbody>\n",
              "    <tr>\n",
              "      <th>1385181</th>\n",
              "      <td>Molly Kruger</td>\n",
              "      <td>-1.0</td>\n",
              "      <td>2</td>\n",
              "    </tr>\n",
              "    <tr>\n",
              "      <th>525234</th>\n",
              "      <td>Yangjie Baima</td>\n",
              "      <td>-1.0</td>\n",
              "      <td>1</td>\n",
              "    </tr>\n",
              "    <tr>\n",
              "      <th>220489</th>\n",
              "      <td>Daniello Zwiebackpapst</td>\n",
              "      <td>-1.0</td>\n",
              "      <td>1</td>\n",
              "    </tr>\n",
              "    <tr>\n",
              "      <th>749522</th>\n",
              "      <td>Milan (II) Lukes</td>\n",
              "      <td>-1.0</td>\n",
              "      <td>1</td>\n",
              "    </tr>\n",
              "    <tr>\n",
              "      <th>880718</th>\n",
              "      <td>Khosro Hassanzadeh</td>\n",
              "      <td>-1.0</td>\n",
              "      <td>1</td>\n",
              "    </tr>\n",
              "  </tbody>\n",
              "</table>\n",
              "</div>\n",
              "      <button class=\"colab-df-convert\" onclick=\"convertToInteractive('df-d216cf1e-dfa4-4d2f-a86c-3c0698c47161')\"\n",
              "              title=\"Convert this dataframe to an interactive table.\"\n",
              "              style=\"display:none;\">\n",
              "        \n",
              "  <svg xmlns=\"http://www.w3.org/2000/svg\" height=\"24px\"viewBox=\"0 0 24 24\"\n",
              "       width=\"24px\">\n",
              "    <path d=\"M0 0h24v24H0V0z\" fill=\"none\"/>\n",
              "    <path d=\"M18.56 5.44l.94 2.06.94-2.06 2.06-.94-2.06-.94-.94-2.06-.94 2.06-2.06.94zm-11 1L8.5 8.5l.94-2.06 2.06-.94-2.06-.94L8.5 2.5l-.94 2.06-2.06.94zm10 10l.94 2.06.94-2.06 2.06-.94-2.06-.94-.94-2.06-.94 2.06-2.06.94z\"/><path d=\"M17.41 7.96l-1.37-1.37c-.4-.4-.92-.59-1.43-.59-.52 0-1.04.2-1.43.59L10.3 9.45l-7.72 7.72c-.78.78-.78 2.05 0 2.83L4 21.41c.39.39.9.59 1.41.59.51 0 1.02-.2 1.41-.59l7.78-7.78 2.81-2.81c.8-.78.8-2.07 0-2.86zM5.41 20L4 18.59l7.72-7.72 1.47 1.35L5.41 20z\"/>\n",
              "  </svg>\n",
              "      </button>\n",
              "      \n",
              "  <style>\n",
              "    .colab-df-container {\n",
              "      display:flex;\n",
              "      flex-wrap:wrap;\n",
              "      gap: 12px;\n",
              "    }\n",
              "\n",
              "    .colab-df-convert {\n",
              "      background-color: #E8F0FE;\n",
              "      border: none;\n",
              "      border-radius: 50%;\n",
              "      cursor: pointer;\n",
              "      display: none;\n",
              "      fill: #1967D2;\n",
              "      height: 32px;\n",
              "      padding: 0 0 0 0;\n",
              "      width: 32px;\n",
              "    }\n",
              "\n",
              "    .colab-df-convert:hover {\n",
              "      background-color: #E2EBFA;\n",
              "      box-shadow: 0px 1px 2px rgba(60, 64, 67, 0.3), 0px 1px 3px 1px rgba(60, 64, 67, 0.15);\n",
              "      fill: #174EA6;\n",
              "    }\n",
              "\n",
              "    [theme=dark] .colab-df-convert {\n",
              "      background-color: #3B4455;\n",
              "      fill: #D2E3FC;\n",
              "    }\n",
              "\n",
              "    [theme=dark] .colab-df-convert:hover {\n",
              "      background-color: #434B5C;\n",
              "      box-shadow: 0px 1px 3px 1px rgba(0, 0, 0, 0.15);\n",
              "      filter: drop-shadow(0px 1px 2px rgba(0, 0, 0, 0.3));\n",
              "      fill: #FFFFFF;\n",
              "    }\n",
              "  </style>\n",
              "\n",
              "      <script>\n",
              "        const buttonEl =\n",
              "          document.querySelector('#df-d216cf1e-dfa4-4d2f-a86c-3c0698c47161 button.colab-df-convert');\n",
              "        buttonEl.style.display =\n",
              "          google.colab.kernel.accessAllowed ? 'block' : 'none';\n",
              "\n",
              "        async function convertToInteractive(key) {\n",
              "          const element = document.querySelector('#df-d216cf1e-dfa4-4d2f-a86c-3c0698c47161');\n",
              "          const dataTable =\n",
              "            await google.colab.kernel.invokeFunction('convertToInteractive',\n",
              "                                                     [key], {});\n",
              "          if (!dataTable) return;\n",
              "\n",
              "          const docLinkHtml = 'Like what you see? Visit the ' +\n",
              "            '<a target=\"_blank\" href=https://colab.research.google.com/notebooks/data_table.ipynb>data table notebook</a>'\n",
              "            + ' to learn more about interactive tables.';\n",
              "          element.innerHTML = '';\n",
              "          dataTable['output_type'] = 'display_data';\n",
              "          await google.colab.output.renderOutput(dataTable, element);\n",
              "          const docLink = document.createElement('div');\n",
              "          docLink.innerHTML = docLinkHtml;\n",
              "          element.appendChild(docLink);\n",
              "        }\n",
              "      </script>\n",
              "    </div>\n",
              "  </div>\n",
              "  "
            ]
          },
          "metadata": {},
          "execution_count": 15
        }
      ]
    },
    {
      "cell_type": "markdown",
      "source": [
        "Seems like they have only appeared in single movie. Lets see the distribution of number of movies for these cast members."
      ],
      "metadata": {
        "id": "2d3FN4wKEQ8s"
      }
    },
    {
      "cell_type": "code",
      "source": [
        "disconnected_cast['Movies'].hist()\n",
        "disconnected_cast['Movies'].value_counts().sort_index()"
      ],
      "metadata": {
        "colab": {
          "base_uri": "https://localhost:8080/",
          "height": 421
        },
        "id": "q2pXlaSiEwKV",
        "outputId": "b4a1ea64-28e9-4958-cbfc-1ac6a63b0ee4"
      },
      "execution_count": 16,
      "outputs": [
        {
          "output_type": "execute_result",
          "data": {
            "text/plain": [
              "1    32302\n",
              "2      904\n",
              "3      131\n",
              "4       52\n",
              "5        8\n",
              "6        6\n",
              "7        3\n",
              "8        1\n",
              "Name: Movies, dtype: int64"
            ]
          },
          "metadata": {},
          "execution_count": 16
        },
        {
          "output_type": "display_data",
          "data": {
            "text/plain": [
              "<Figure size 432x288 with 1 Axes>"
            ],
            "image/png": "[encoded data removed]"
          },
          "metadata": {
            "needs_background": "light"
          }
        }
      ]
    },
    {
      "cell_type": "markdown",
      "source": [
        "Altohugh most of them appeared in a single movie, some cast members have apperead in 8 movies and yet have no connection with Kevin Bacon. Lets see who these cast members are."
      ],
      "metadata": {
        "id": "Ks_2gSf5FEcV"
      }
    },
    {
      "cell_type": "code",
      "source": [
        "disconnected_cast[disconnected_cast['Movies']>4].sort_values('Movies',ascending=False).head(5)"
      ],
      "metadata": {
        "colab": {
          "base_uri": "https://localhost:8080/",
          "height": 206
        },
        "id": "Vx64VIH4FQg2",
        "outputId": "8cccc891-4212-4039-bd64-a30f7e919845"
      },
      "execution_count": 17,
      "outputs": [
        {
          "output_type": "execute_result",
          "data": {
            "text/plain": [
              "                        Name  Bacon number  Movies\n",
              "621305    Douglas (II) Reese          -1.0       8\n",
              "862774          Jonathon Ash          -1.0       7\n",
              "819339          Assia Dagher          -1.0       7\n",
              "415424  Gabriel (II) Michael          -1.0       7\n",
              "43486        Jackson Buscher          -1.0       6"
            ],
            "text/html": [
              "\n",
              "  <div id=\"df-3edf95c0-dec8-45e9-bc68-31a5fd91fa9b\">\n",
              "    <div class=\"colab-df-container\">\n",
              "      <div>\n",
              "<style scoped>\n",
              "    .dataframe tbody tr th:only-of-type {\n",
              "        vertical-align: middle;\n",
              "    }\n",
              "\n",
              "    .dataframe tbody tr th {\n",
              "        vertical-align: top;\n",
              "    }\n",
              "\n",
              "    .dataframe thead th {\n",
              "        text-align: right;\n",
              "    }\n",
              "</style>\n",
              "<table border=\"1\" class=\"dataframe\">\n",
              "  <thead>\n",
              "    <tr style=\"text-align: right;\">\n",
              "      <th></th>\n",
              "      <th>Name</th>\n",
              "      <th>Bacon number</th>\n",
              "      <th>Movies</th>\n",
              "    </tr>\n",
              "  </thead>\n",
              "  <tbody>\n",
              "    <tr>\n",
              "      <th>621305</th>\n",
              "      <td>Douglas (II) Reese</td>\n",
              "      <td>-1.0</td>\n",
              "      <td>8</td>\n",
              "    </tr>\n",
              "    <tr>\n",
              "      <th>862774</th>\n",
              "      <td>Jonathon Ash</td>\n",
              "      <td>-1.0</td>\n",
              "      <td>7</td>\n",
              "    </tr>\n",
              "    <tr>\n",
              "      <th>819339</th>\n",
              "      <td>Assia Dagher</td>\n",
              "      <td>-1.0</td>\n",
              "      <td>7</td>\n",
              "    </tr>\n",
              "    <tr>\n",
              "      <th>415424</th>\n",
              "      <td>Gabriel (II) Michael</td>\n",
              "      <td>-1.0</td>\n",
              "      <td>7</td>\n",
              "    </tr>\n",
              "    <tr>\n",
              "      <th>43486</th>\n",
              "      <td>Jackson Buscher</td>\n",
              "      <td>-1.0</td>\n",
              "      <td>6</td>\n",
              "    </tr>\n",
              "  </tbody>\n",
              "</table>\n",
              "</div>\n",
              "      <button class=\"colab-df-convert\" onclick=\"convertToInteractive('df-3edf95c0-dec8-45e9-bc68-31a5fd91fa9b')\"\n",
              "              title=\"Convert this dataframe to an interactive table.\"\n",
              "              style=\"display:none;\">\n",
              "        \n",
              "  <svg xmlns=\"http://www.w3.org/2000/svg\" height=\"24px\"viewBox=\"0 0 24 24\"\n",
              "       width=\"24px\">\n",
              "    <path d=\"M0 0h24v24H0V0z\" fill=\"none\"/>\n",
              "    <path d=\"M18.56 5.44l.94 2.06.94-2.06 2.06-.94-2.06-.94-.94-2.06-.94 2.06-2.06.94zm-11 1L8.5 8.5l.94-2.06 2.06-.94-2.06-.94L8.5 2.5l-.94 2.06-2.06.94zm10 10l.94 2.06.94-2.06 2.06-.94-2.06-.94-.94-2.06-.94 2.06-2.06.94z\"/><path d=\"M17.41 7.96l-1.37-1.37c-.4-.4-.92-.59-1.43-.59-.52 0-1.04.2-1.43.59L10.3 9.45l-7.72 7.72c-.78.78-.78 2.05 0 2.83L4 21.41c.39.39.9.59 1.41.59.51 0 1.02-.2 1.41-.59l7.78-7.78 2.81-2.81c.8-.78.8-2.07 0-2.86zM5.41 20L4 18.59l7.72-7.72 1.47 1.35L5.41 20z\"/>\n",
              "  </svg>\n",
              "      </button>\n",
              "      \n",
              "  <style>\n",
              "    .colab-df-container {\n",
              "      display:flex;\n",
              "      flex-wrap:wrap;\n",
              "      gap: 12px;\n",
              "    }\n",
              "\n",
              "    .colab-df-convert {\n",
              "      background-color: #E8F0FE;\n",
              "      border: none;\n",
              "      border-radius: 50%;\n",
              "      cursor: pointer;\n",
              "      display: none;\n",
              "      fill: #1967D2;\n",
              "      height: 32px;\n",
              "      padding: 0 0 0 0;\n",
              "      width: 32px;\n",
              "    }\n",
              "\n",
              "    .colab-df-convert:hover {\n",
              "      background-color: #E2EBFA;\n",
              "      box-shadow: 0px 1px 2px rgba(60, 64, 67, 0.3), 0px 1px 3px 1px rgba(60, 64, 67, 0.15);\n",
              "      fill: #174EA6;\n",
              "    }\n",
              "\n",
              "    [theme=dark] .colab-df-convert {\n",
              "      background-color: #3B4455;\n",
              "      fill: #D2E3FC;\n",
              "    }\n",
              "\n",
              "    [theme=dark] .colab-df-convert:hover {\n",
              "      background-color: #434B5C;\n",
              "      box-shadow: 0px 1px 3px 1px rgba(0, 0, 0, 0.15);\n",
              "      filter: drop-shadow(0px 1px 2px rgba(0, 0, 0, 0.3));\n",
              "      fill: #FFFFFF;\n",
              "    }\n",
              "  </style>\n",
              "\n",
              "      <script>\n",
              "        const buttonEl =\n",
              "          document.querySelector('#df-3edf95c0-dec8-45e9-bc68-31a5fd91fa9b button.colab-df-convert');\n",
              "        buttonEl.style.display =\n",
              "          google.colab.kernel.accessAllowed ? 'block' : 'none';\n",
              "\n",
              "        async function convertToInteractive(key) {\n",
              "          const element = document.querySelector('#df-3edf95c0-dec8-45e9-bc68-31a5fd91fa9b');\n",
              "          const dataTable =\n",
              "            await google.colab.kernel.invokeFunction('convertToInteractive',\n",
              "                                                     [key], {});\n",
              "          if (!dataTable) return;\n",
              "\n",
              "          const docLinkHtml = 'Like what you see? Visit the ' +\n",
              "            '<a target=\"_blank\" href=https://colab.research.google.com/notebooks/data_table.ipynb>data table notebook</a>'\n",
              "            + ' to learn more about interactive tables.';\n",
              "          element.innerHTML = '';\n",
              "          dataTable['output_type'] = 'display_data';\n",
              "          await google.colab.output.renderOutput(dataTable, element);\n",
              "          const docLink = document.createElement('div');\n",
              "          docLink.innerHTML = docLinkHtml;\n",
              "          element.appendChild(docLink);\n",
              "        }\n",
              "      </script>\n",
              "    </div>\n",
              "  </div>\n",
              "  "
            ]
          },
          "metadata": {},
          "execution_count": 17
        }
      ]
    },
    {
      "cell_type": "code",
      "source": [
        "print(list(actor_movie_df.loc[\"Tyler (V) Olson\"]))\n",
        "print(list(actor_movie_df.loc[\"Mary Queeny\"]))\n",
        "print(list(actor_movie_df.loc[\"Douglas (II) Reese\"]))"
      ],
      "metadata": {
        "colab": {
          "base_uri": "https://localhost:8080/"
        },
        "id": "abbMxxM-FmTl",
        "outputId": "89e93abf-34f6-451c-e240-1b41cd2c2990"
      },
      "execution_count": 18,
      "outputs": [
        {
          "output_type": "stream",
          "name": "stdout",
          "text": [
            "[['A School Poltergeist (2015)', 'Carrie and Jerry (2015)', 'Elijah (2014)', 'Pushed Too Far (2015)', 'The Cretaceous City (2018)']]\n",
            "[['Banknote (1936)', 'Bint el-bacha el-moudir (1938)', 'Chagarat al-dorr (1935)', 'Endama toheb el maraa (1933)', 'Uyun sahira (1934)', 'Zawja bil nayaba (1937)']]\n",
            "[['Blue Guitar (2016)', 'Digital Invasion (2010)', 'Maysville (2015)', 'Migraine (2017)', 'Nessa (2015)', 'The Supporter (2008)', 'The Vaughn Sister (2010)', 'Warwick (2016)']]\n"
          ]
        }
      ]
    },
    {
      "cell_type": "markdown",
      "source": [
        "Some of the above cast members seems to have apperead in quite a few movies, but we were unable to find a connection. However, some actor names have numeral values in their names such as (II) or (V), so it may be one reason for not finding a connection. (may be they use other names).\n",
        "\n",
        "Also when cross-checked with [this website](https://oracleofbacon.org/) which gives the connection to Kevin Bacon, it showed that Bacon number for \"Mary Queeny\" is 4. However, the connection to Kevin Bacon occurs via the movie \"Mister Roberts (1984)\" which does not appear in our daat set. So another reason would be missing data in our data set.\n",
        "\n",
        "Also some names such as 'Mimo Garcia' does not appear in the above website. This validates our finding that the Bacon number is infinity for this cast member."
      ],
      "metadata": {
        "id": "XxQNizhuIEWz"
      }
    },
    {
      "cell_type": "markdown",
      "source": [
        "**Q.  What is the higest (non infinite) Bacon number for the cast members in our data.**\n",
        "\n",
        "A. We had three cast members with Bacon number 8 and 64 cast members with bacon number 7."
      ],
      "metadata": {
        "id": "6zB_FlehKLcE"
      }
    },
    {
      "cell_type": "code",
      "source": [
        "high_bacon_number_df=data[data[\"Bacon number\"]>=7]\n",
        "high_bacon_number_df.sort_values(\"Bacon number\",ascending=False).head(5)"
      ],
      "metadata": {
        "colab": {
          "base_uri": "https://localhost:8080/",
          "height": 206
        },
        "id": "pGVIxdGnKKys",
        "outputId": "0b256b1d-7de8-410c-e6a6-62d46a201527"
      },
      "execution_count": 19,
      "outputs": [
        {
          "output_type": "execute_result",
          "data": {
            "text/plain": [
              "                                                     Name  Bacon number  \\\n",
              "12843                                         Agnes P?ndy           8.0   \n",
              "234355                                           Aura (V)           8.0   \n",
              "899449                                   G?nter Schickert           8.0   \n",
              "851297  Nachalnik na sofiyskata pozharna comanda Zahar...           7.0   \n",
              "908811                                        Mila Savova           7.0   \n",
              "\n",
              "        Movies  \n",
              "12843        1  \n",
              "234355       1  \n",
              "899449       1  \n",
              "851297       1  \n",
              "908811       1  "
            ],
            "text/html": [
              "\n",
              "  <div id=\"df-aab59867-9058-471d-9d32-32a5592071ce\">\n",
              "    <div class=\"colab-df-container\">\n",
              "      <div>\n",
              "<style scoped>\n",
              "    .dataframe tbody tr th:only-of-type {\n",
              "        vertical-align: middle;\n",
              "    }\n",
              "\n",
              "    .dataframe tbody tr th {\n",
              "        vertical-align: top;\n",
              "    }\n",
              "\n",
              "    .dataframe thead th {\n",
              "        text-align: right;\n",
              "    }\n",
              "</style>\n",
              "<table border=\"1\" class=\"dataframe\">\n",
              "  <thead>\n",
              "    <tr style=\"text-align: right;\">\n",
              "      <th></th>\n",
              "      <th>Name</th>\n",
              "      <th>Bacon number</th>\n",
              "      <th>Movies</th>\n",
              "    </tr>\n",
              "  </thead>\n",
              "  <tbody>\n",
              "    <tr>\n",
              "      <th>12843</th>\n",
              "      <td>Agnes P?ndy</td>\n",
              "      <td>8.0</td>\n",
              "      <td>1</td>\n",
              "    </tr>\n",
              "    <tr>\n",
              "      <th>234355</th>\n",
              "      <td>Aura (V)</td>\n",
              "      <td>8.0</td>\n",
              "      <td>1</td>\n",
              "    </tr>\n",
              "    <tr>\n",
              "      <th>899449</th>\n",
              "      <td>G?nter Schickert</td>\n",
              "      <td>8.0</td>\n",
              "      <td>1</td>\n",
              "    </tr>\n",
              "    <tr>\n",
              "      <th>851297</th>\n",
              "      <td>Nachalnik na sofiyskata pozharna comanda Zahar...</td>\n",
              "      <td>7.0</td>\n",
              "      <td>1</td>\n",
              "    </tr>\n",
              "    <tr>\n",
              "      <th>908811</th>\n",
              "      <td>Mila Savova</td>\n",
              "      <td>7.0</td>\n",
              "      <td>1</td>\n",
              "    </tr>\n",
              "  </tbody>\n",
              "</table>\n",
              "</div>\n",
              "      <button class=\"colab-df-convert\" onclick=\"convertToInteractive('df-aab59867-9058-471d-9d32-32a5592071ce')\"\n",
              "              title=\"Convert this dataframe to an interactive table.\"\n",
              "              style=\"display:none;\">\n",
              "        \n",
              "  <svg xmlns=\"http://www.w3.org/2000/svg\" height=\"24px\"viewBox=\"0 0 24 24\"\n",
              "       width=\"24px\">\n",
              "    <path d=\"M0 0h24v24H0V0z\" fill=\"none\"/>\n",
              "    <path d=\"M18.56 5.44l.94 2.06.94-2.06 2.06-.94-2.06-.94-.94-2.06-.94 2.06-2.06.94zm-11 1L8.5 8.5l.94-2.06 2.06-.94-2.06-.94L8.5 2.5l-.94 2.06-2.06.94zm10 10l.94 2.06.94-2.06 2.06-.94-2.06-.94-.94-2.06-.94 2.06-2.06.94z\"/><path d=\"M17.41 7.96l-1.37-1.37c-.4-.4-.92-.59-1.43-.59-.52 0-1.04.2-1.43.59L10.3 9.45l-7.72 7.72c-.78.78-.78 2.05 0 2.83L4 21.41c.39.39.9.59 1.41.59.51 0 1.02-.2 1.41-.59l7.78-7.78 2.81-2.81c.8-.78.8-2.07 0-2.86zM5.41 20L4 18.59l7.72-7.72 1.47 1.35L5.41 20z\"/>\n",
              "  </svg>\n",
              "      </button>\n",
              "      \n",
              "  <style>\n",
              "    .colab-df-container {\n",
              "      display:flex;\n",
              "      flex-wrap:wrap;\n",
              "      gap: 12px;\n",
              "    }\n",
              "\n",
              "    .colab-df-convert {\n",
              "      background-color: #E8F0FE;\n",
              "      border: none;\n",
              "      border-radius: 50%;\n",
              "      cursor: pointer;\n",
              "      display: none;\n",
              "      fill: #1967D2;\n",
              "      height: 32px;\n",
              "      padding: 0 0 0 0;\n",
              "      width: 32px;\n",
              "    }\n",
              "\n",
              "    .colab-df-convert:hover {\n",
              "      background-color: #E2EBFA;\n",
              "      box-shadow: 0px 1px 2px rgba(60, 64, 67, 0.3), 0px 1px 3px 1px rgba(60, 64, 67, 0.15);\n",
              "      fill: #174EA6;\n",
              "    }\n",
              "\n",
              "    [theme=dark] .colab-df-convert {\n",
              "      background-color: #3B4455;\n",
              "      fill: #D2E3FC;\n",
              "    }\n",
              "\n",
              "    [theme=dark] .colab-df-convert:hover {\n",
              "      background-color: #434B5C;\n",
              "      box-shadow: 0px 1px 3px 1px rgba(0, 0, 0, 0.15);\n",
              "      filter: drop-shadow(0px 1px 2px rgba(0, 0, 0, 0.3));\n",
              "      fill: #FFFFFF;\n",
              "    }\n",
              "  </style>\n",
              "\n",
              "      <script>\n",
              "        const buttonEl =\n",
              "          document.querySelector('#df-aab59867-9058-471d-9d32-32a5592071ce button.colab-df-convert');\n",
              "        buttonEl.style.display =\n",
              "          google.colab.kernel.accessAllowed ? 'block' : 'none';\n",
              "\n",
              "        async function convertToInteractive(key) {\n",
              "          const element = document.querySelector('#df-aab59867-9058-471d-9d32-32a5592071ce');\n",
              "          const dataTable =\n",
              "            await google.colab.kernel.invokeFunction('convertToInteractive',\n",
              "                                                     [key], {});\n",
              "          if (!dataTable) return;\n",
              "\n",
              "          const docLinkHtml = 'Like what you see? Visit the ' +\n",
              "            '<a target=\"_blank\" href=https://colab.research.google.com/notebooks/data_table.ipynb>data table notebook</a>'\n",
              "            + ' to learn more about interactive tables.';\n",
              "          element.innerHTML = '';\n",
              "          dataTable['output_type'] = 'display_data';\n",
              "          await google.colab.output.renderOutput(dataTable, element);\n",
              "          const docLink = document.createElement('div');\n",
              "          docLink.innerHTML = docLinkHtml;\n",
              "          element.appendChild(docLink);\n",
              "        }\n",
              "      </script>\n",
              "    </div>\n",
              "  </div>\n",
              "  "
            ]
          },
          "metadata": {},
          "execution_count": 19
        }
      ]
    },
    {
      "cell_type": "code",
      "source": [
        "high_bacon_number_df['Movies'].hist()\n",
        "high_bacon_number_df['Movies'].value_counts().sort_index()"
      ],
      "metadata": {
        "colab": {
          "base_uri": "https://localhost:8080/",
          "height": 317
        },
        "id": "yPoAGznMK0Vb",
        "outputId": "ce434a3f-2e10-451c-f61c-d7b56707597b"
      },
      "execution_count": 20,
      "outputs": [
        {
          "output_type": "execute_result",
          "data": {
            "text/plain": [
              "1    66\n",
              "2     1\n",
              "Name: Movies, dtype: int64"
            ]
          },
          "metadata": {},
          "execution_count": 20
        },
        {
          "output_type": "display_data",
          "data": {
            "text/plain": [
              "<Figure size 432x288 with 1 Axes>"
            ],
            "image/png": "[encoded data removed]"
          },
          "metadata": {
            "needs_background": "light"
          }
        }
      ]
    },
    {
      "cell_type": "markdown",
      "source": [
        "As expected, almost all the cast members have only appeared in one or two movies. Thus the probability of having a lower Bacon number for these cast members is low."
      ],
      "metadata": {
        "id": "Y4pNxL9NLtyb"
      }
    },
    {
      "cell_type": "markdown",
      "source": [
        "**Q. What is the relationship between the number of movies a cast member appeared in vs their Bacon number ? (ie. does appearing in more movies corresponds to a lower Bacon number)**\n",
        "\n",
        "Lets analyse this problem by first removing the infinity values from our data."
      ],
      "metadata": {
        "id": "kNBYLmUoM-Fw"
      }
    },
    {
      "cell_type": "code",
      "source": [
        "non_inf_data=data[data[\"Bacon number\"]!=-1]\n",
        "non_inf_data.head()"
      ],
      "metadata": {
        "colab": {
          "base_uri": "https://localhost:8080/",
          "height": 206
        },
        "id": "1wUq6ucSNJgr",
        "outputId": "4da37860-513e-43d9-84db-aad5453b4855"
      },
      "execution_count": 21,
      "outputs": [
        {
          "output_type": "execute_result",
          "data": {
            "text/plain": [
              "                 Name  Bacon number  Movies\n",
              "0  Noshirwan Jehangir           3.0       3\n",
              "1       Henry Oyasato           3.0       1\n",
              "2      Isabelle Haase           4.0       1\n",
              "3      Teddo November           2.0       5\n",
              "4      Thupten Gyatso           2.0       1"
            ],
            "text/html": [
              "\n",
              "  <div id=\"df-6865f443-e209-4586-87c2-dfb32238dcf8\">\n",
              "    <div class=\"colab-df-container\">\n",
              "      <div>\n",
              "<style scoped>\n",
              "    .dataframe tbody tr th:only-of-type {\n",
              "        vertical-align: middle;\n",
              "    }\n",
              "\n",
              "    .dataframe tbody tr th {\n",
              "        vertical-align: top;\n",
              "    }\n",
              "\n",
              "    .dataframe thead th {\n",
              "        text-align: right;\n",
              "    }\n",
              "</style>\n",
              "<table border=\"1\" class=\"dataframe\">\n",
              "  <thead>\n",
              "    <tr style=\"text-align: right;\">\n",
              "      <th></th>\n",
              "      <th>Name</th>\n",
              "      <th>Bacon number</th>\n",
              "      <th>Movies</th>\n",
              "    </tr>\n",
              "  </thead>\n",
              "  <tbody>\n",
              "    <tr>\n",
              "      <th>0</th>\n",
              "      <td>Noshirwan Jehangir</td>\n",
              "      <td>3.0</td>\n",
              "      <td>3</td>\n",
              "    </tr>\n",
              "    <tr>\n",
              "      <th>1</th>\n",
              "      <td>Henry Oyasato</td>\n",
              "      <td>3.0</td>\n",
              "      <td>1</td>\n",
              "    </tr>\n",
              "    <tr>\n",
              "      <th>2</th>\n",
              "      <td>Isabelle Haase</td>\n",
              "      <td>4.0</td>\n",
              "      <td>1</td>\n",
              "    </tr>\n",
              "    <tr>\n",
              "      <th>3</th>\n",
              "      <td>Teddo November</td>\n",
              "      <td>2.0</td>\n",
              "      <td>5</td>\n",
              "    </tr>\n",
              "    <tr>\n",
              "      <th>4</th>\n",
              "      <td>Thupten Gyatso</td>\n",
              "      <td>2.0</td>\n",
              "      <td>1</td>\n",
              "    </tr>\n",
              "  </tbody>\n",
              "</table>\n",
              "</div>\n",
              "      <button class=\"colab-df-convert\" onclick=\"convertToInteractive('df-6865f443-e209-4586-87c2-dfb32238dcf8')\"\n",
              "              title=\"Convert this dataframe to an interactive table.\"\n",
              "              style=\"display:none;\">\n",
              "        \n",
              "  <svg xmlns=\"http://www.w3.org/2000/svg\" height=\"24px\"viewBox=\"0 0 24 24\"\n",
              "       width=\"24px\">\n",
              "    <path d=\"M0 0h24v24H0V0z\" fill=\"none\"/>\n",
              "    <path d=\"M18.56 5.44l.94 2.06.94-2.06 2.06-.94-2.06-.94-.94-2.06-.94 2.06-2.06.94zm-11 1L8.5 8.5l.94-2.06 2.06-.94-2.06-.94L8.5 2.5l-.94 2.06-2.06.94zm10 10l.94 2.06.94-2.06 2.06-.94-2.06-.94-.94-2.06-.94 2.06-2.06.94z\"/><path d=\"M17.41 7.96l-1.37-1.37c-.4-.4-.92-.59-1.43-.59-.52 0-1.04.2-1.43.59L10.3 9.45l-7.72 7.72c-.78.78-.78 2.05 0 2.83L4 21.41c.39.39.9.59 1.41.59.51 0 1.02-.2 1.41-.59l7.78-7.78 2.81-2.81c.8-.78.8-2.07 0-2.86zM5.41 20L4 18.59l7.72-7.72 1.47 1.35L5.41 20z\"/>\n",
              "  </svg>\n",
              "      </button>\n",
              "      \n",
              "  <style>\n",
              "    .colab-df-container {\n",
              "      display:flex;\n",
              "      flex-wrap:wrap;\n",
              "      gap: 12px;\n",
              "    }\n",
              "\n",
              "    .colab-df-convert {\n",
              "      background-color: #E8F0FE;\n",
              "      border: none;\n",
              "      border-radius: 50%;\n",
              "      cursor: pointer;\n",
              "      display: none;\n",
              "      fill: #1967D2;\n",
              "      height: 32px;\n",
              "      padding: 0 0 0 0;\n",
              "      width: 32px;\n",
              "    }\n",
              "\n",
              "    .colab-df-convert:hover {\n",
              "      background-color: #E2EBFA;\n",
              "      box-shadow: 0px 1px 2px rgba(60, 64, 67, 0.3), 0px 1px 3px 1px rgba(60, 64, 67, 0.15);\n",
              "      fill: #174EA6;\n",
              "    }\n",
              "\n",
              "    [theme=dark] .colab-df-convert {\n",
              "      background-color: #3B4455;\n",
              "      fill: #D2E3FC;\n",
              "    }\n",
              "\n",
              "    [theme=dark] .colab-df-convert:hover {\n",
              "      background-color: #434B5C;\n",
              "      box-shadow: 0px 1px 3px 1px rgba(0, 0, 0, 0.15);\n",
              "      filter: drop-shadow(0px 1px 2px rgba(0, 0, 0, 0.3));\n",
              "      fill: #FFFFFF;\n",
              "    }\n",
              "  </style>\n",
              "\n",
              "      <script>\n",
              "        const buttonEl =\n",
              "          document.querySelector('#df-6865f443-e209-4586-87c2-dfb32238dcf8 button.colab-df-convert');\n",
              "        buttonEl.style.display =\n",
              "          google.colab.kernel.accessAllowed ? 'block' : 'none';\n",
              "\n",
              "        async function convertToInteractive(key) {\n",
              "          const element = document.querySelector('#df-6865f443-e209-4586-87c2-dfb32238dcf8');\n",
              "          const dataTable =\n",
              "            await google.colab.kernel.invokeFunction('convertToInteractive',\n",
              "                                                     [key], {});\n",
              "          if (!dataTable) return;\n",
              "\n",
              "          const docLinkHtml = 'Like what you see? Visit the ' +\n",
              "            '<a target=\"_blank\" href=https://colab.research.google.com/notebooks/data_table.ipynb>data table notebook</a>'\n",
              "            + ' to learn more about interactive tables.';\n",
              "          element.innerHTML = '';\n",
              "          dataTable['output_type'] = 'display_data';\n",
              "          await google.colab.output.renderOutput(dataTable, element);\n",
              "          const docLink = document.createElement('div');\n",
              "          docLink.innerHTML = docLinkHtml;\n",
              "          element.appendChild(docLink);\n",
              "        }\n",
              "      </script>\n",
              "    </div>\n",
              "  </div>\n",
              "  "
            ]
          },
          "metadata": {},
          "execution_count": 21
        }
      ]
    },
    {
      "cell_type": "code",
      "source": [
        "non_inf_data.plot.scatter(x='Bacon number', y='Movies', title= \"Scatter plot between bacon number and number of movies\");"
      ],
      "metadata": {
        "colab": {
          "base_uri": "https://localhost:8080/",
          "height": 295
        },
        "id": "WVY6sMQ2NTM6",
        "outputId": "a12472f6-7356-4fc1-8c98-958edfaf4385"
      },
      "execution_count": 22,
      "outputs": [
        {
          "output_type": "display_data",
          "data": {
            "text/plain": [
              "<Figure size 432x288 with 1 Axes>"
            ],
            "image/png": "[encoded data removed]"
          },
          "metadata": {
            "needs_background": "light"
          }
        }
      ]
    },
    {
      "cell_type": "code",
      "source": [
        "non_inf_data[\"Movies\"].corr(non_inf_data[\"Bacon number\"])"
      ],
      "metadata": {
        "colab": {
          "base_uri": "https://localhost:8080/"
        },
        "id": "BHGNns1MNwHy",
        "outputId": "2151d49f-897a-4506-cdef-52b817b220ba"
      },
      "execution_count": 23,
      "outputs": [
        {
          "output_type": "execute_result",
          "data": {
            "text/plain": [
              "-0.155846051249101"
            ]
          },
          "metadata": {},
          "execution_count": 23
        }
      ]
    },
    {
      "cell_type": "markdown",
      "source": [
        "This gives us a negative correlation value, confirming that appering in a higher number of movies results in a lower Bacon number. Also it should be noted that we have dropped the cast members who had a infinite bacon number. if we include them here, the correlation index will reduce further."
      ],
      "metadata": {
        "id": "g4XhUE_5Ox8K"
      }
    },
    {
      "cell_type": "markdown",
      "metadata": {
        "id": "cJ2JEUa0irMm"
      },
      "source": [
        "## Conclusion\n",
        "\n",
        "Here we used a cast data set to calculate the Bacon number for all the cast members availble. We used Dijkstra's algorithm. The six degrees of separation principle did not seem to be applied to some cast members as there were around 33000 cast memebrs with no connection to Kevin Bacon and another 67 members with a Bacon number higher than 6. However, when compared with the total number of cast members (ie. 1394048), the above mentioned values were a very small percentage (0.23 %). Thus, we can conclude that for most cases the six degrees of separation will be achievable.\n"
      ]
    },
    {
      "cell_type": "markdown",
      "metadata": {
        "id": "r6B3JwtBFFJ-"
      },
      "source": [
        "## References\n",
        "\n",
        "\n",
        "\n",
        "1.   [Six degrees of Kevin Bacon](https://en.wikipedia.org/wiki/Six_Degrees_of_Kevin_Bacon#:~:text=The%20Bacon%20number%20of%20an,Kevin%20Bacon%20the%20actor%20is.) \n",
        "2.   [Dijkstra's algorithm](https://en.wikipedia.org/wiki/Dijkstra%27s_algorithm)\n",
        "3.   [The Oracle of Bacon](https://oracleofbacon.org/)\n",
        "4.  [Pycon Pandas Tutorial](https://github.com/brandon-rhodes/pycon-pandas-tutorial/tree/998a4539ce9856010d4bb238de74cefe12b1d883) by Brandon Rhodes\n"
      ]
    }
  ],
  "metadata": {
    "colab": {
      "collapsed_sections": [],
      "provenance": []
    },
    "kernelspec": {
      "display_name": "Python 3",
      "language": "python",
      "name": "python3"
    },
    "language_info": {
      "codemirror_mode": {
        "name": "ipython",
        "version": 3
      },
      "file_extension": ".py",
      "mimetype": "text/x-python",
      "name": "python",
      "nbconvert_exporter": "python",
      "pygments_lexer": "ipython3",
      "version": "3.7.9"
    }
  },
  "nbformat": 4,
  "nbformat_minor": 0
}